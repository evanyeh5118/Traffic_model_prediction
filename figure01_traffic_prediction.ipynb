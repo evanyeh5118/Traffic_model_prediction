{
 "cells": [
  {
   "cell_type": "code",
   "execution_count": 27,
   "id": "aedf0180",
   "metadata": {},
   "outputs": [],
   "source": [
    "import os\n",
    "os.environ[\"KMP_DUPLICATE_LIB_OK\"]=\"TRUE\"\n",
    "\n",
    "import numpy as np\n",
    "import matplotlib.pyplot as plt\n",
    "import pickle\n",
    "import torch\n",
    "\n",
    "from libs.MarkovModel import compute_context_aware_transition_matrix\n",
    "from libs.MarkovModel import compute_transition_matrix\n",
    "from libs.MarkovModel import compute_log_likelihood_and_perplexity\n",
    "from libs import encode_float_filename, decode_float_filename"
   ]
  },
  {
   "cell_type": "code",
   "execution_count": 28,
   "id": "06056717",
   "metadata": {},
   "outputs": [
    {
     "name": "stdout",
     "output_type": "stream",
     "text": [
      "Perfect MSE: 1.0146, CF MSE: 1.3554, CA MSE: 1.0772\n"
     ]
    }
   ],
   "source": [
    "dbParams = 0.01\n",
    "direction = \"forward\"\n",
    "mode = \"fixed\"\n",
    "alpha = 0.5\n",
    "lenWindow = 10\n",
    "\n",
    "dbpString = encode_float_filename(dbParams)\n",
    "with open(f\"Results/TrafficPredictor/evaluate/CA/{direction}_{lenWindow}_{mode}_{dbpString}_train.pkl\", \"rb\") as file:\n",
    "    resultsCA_Train = pickle.load(file)\n",
    "with open(f\"Results/TrafficPredictor/evaluate/CA/{direction}_{lenWindow}_{mode}_{dbpString}_test.pkl\", \"rb\") as file:\n",
    "    resultsCA_Test = pickle.load(file)\n",
    "with open(f\"Results/TrafficPredictor/evaluate/CF/{direction}_{lenWindow}_{mode}_{dbpString}_train.pkl\", \"rb\") as file:\n",
    "    resultsCF_Train = pickle.load(file)\n",
    "with open(f\"Results/TrafficPredictor/evaluate/CF/{direction}_{lenWindow}_{mode}_{dbpString}_test.pkl\", \"rb\") as file:\n",
    "    resultsCF_Test = pickle.load(file)\n",
    "with open(f\"Results/TrafficPredictor/evaluate/Perfect/{direction}_{lenWindow}_{mode}_{dbpString}_train.pkl\", \"rb\") as file:\n",
    "    resultsPerfect_Train = pickle.load(file)\n",
    "with open(f\"Results/TrafficPredictor/evaluate/Perfect/{direction}_{lenWindow}_{mode}_{dbpString}_test.pkl\", \"rb\") as file:\n",
    "    resultsPerfect_Test = pickle.load(file)\n",
    "\n",
    "mseCA = np.mean(np.square(resultsCA_Test[\"trafficTarget_actual\"] - resultsCA_Test[\"trafficTarget_predicted\"]))\n",
    "mseCF = np.mean(np.square(resultsCF_Test[\"trafficTarget_actual\"] - resultsCF_Test[\"trafficTarget_predicted\"]))\n",
    "msePerfect = np.mean(np.square(resultsPerfect_Test[\"trafficTarget_actual\"] - resultsPerfect_Test[\"trafficTarget_predicted\"]))\n",
    "print(f\"Perfect MSE: {msePerfect:.4f}, CF MSE: {mseCF:.4f}, CA MSE: {mseCA:.4f}\")"
   ]
  },
  {
   "cell_type": "code",
   "execution_count": 29,
   "id": "69224fb8",
   "metadata": {},
   "outputs": [
    {
     "name": "stdout",
     "output_type": "stream",
     "text": [
      "Perfect MSE: 3.4880, CF MSE: 3.3839, CA MSE: 3.6375\n",
      "Perfect MSE: 8.5010, CF MSE: 8.6988, CA MSE: 9.8876\n",
      "Perfect MSE: 14.1939, CF MSE: 15.0084, CA MSE: 17.4776\n"
     ]
    }
   ],
   "source": [
    "#dbParams = 0.01\n",
    "#direction = \"forward\"\n",
    "#dbParams = 0.2\n",
    "#direction = \"backward\"\n",
    "\n",
    "dbParams_list = [0.15]\n",
    "direction_list = [\"backward\"]\n",
    "#dbParams_list = [0.2]\n",
    "#direction_list = [\"backward\"]\n",
    "mode_list = [\"fixed\"]\n",
    "LEN_period = 1000\n",
    "verbose = False\n",
    "\n",
    "perpCF_results = {}\n",
    "perpCA_results = {}\n",
    "\n",
    "for dbParams, direction in zip(dbParams_list, direction_list):\n",
    "    for mode in mode_list:\n",
    "        perpCF_row = []\n",
    "        perpCA_row = []\n",
    "        for lenWindow in [10, 20, 30]:\n",
    "            dbpString = encode_float_filename(dbParams)\n",
    "            with open(f\"Results/TrafficPredictor/evaluate/CA/{direction}_{lenWindow}_{mode}_{dbpString}_train.pkl\", \"rb\") as file:\n",
    "                resultsCA_Train = pickle.load(file)\n",
    "            with open(f\"Results/TrafficPredictor/evaluate/CA/{direction}_{lenWindow}_{mode}_{dbpString}_test.pkl\", \"rb\") as file:\n",
    "                resultsCA_Test = pickle.load(file)\n",
    "            with open(f\"Results/TrafficPredictor/evaluate/CF/{direction}_{lenWindow}_{mode}_{dbpString}_train.pkl\", \"rb\") as file:\n",
    "                resultsCF_Train = pickle.load(file)\n",
    "            with open(f\"Results/TrafficPredictor/evaluate/CF/{direction}_{lenWindow}_{mode}_{dbpString}_test.pkl\", \"rb\") as file:\n",
    "                resultsCF_Test = pickle.load(file)\n",
    "            with open(f\"Results/TrafficPredictor/evaluate/Perfect/{direction}_{lenWindow}_{mode}_{dbpString}_train.pkl\", \"rb\") as file:\n",
    "                resultsPerfect_Train = pickle.load(file)\n",
    "            with open(f\"Results/TrafficPredictor/evaluate/Perfect/{direction}_{lenWindow}_{mode}_{dbpString}_test.pkl\", \"rb\") as file:\n",
    "                resultsPerfect_Test = pickle.load(file)\n",
    "\n",
    "            mseCA = np.mean(np.square(resultsCA_Test[\"trafficTarget_actual\"] - resultsCA_Test[\"trafficTarget_predicted\"]))\n",
    "            mseCF = np.mean(np.square(resultsCF_Test[\"trafficTarget_actual\"] - resultsCF_Test[\"trafficTarget_predicted\"]))\n",
    "            msePerfect = np.mean(np.square(resultsPerfect_Test[\"trafficTarget_actual\"] - resultsPerfect_Test[\"trafficTarget_predicted\"]))\n",
    "            print(f\"Perfect MSE: {msePerfect:.4f}, CF MSE: {mseCF:.4f}, CA MSE: {mseCA:.4f}\")\n",
    "\n",
    "#perpCF_results = np.array(perpCF_results)\n",
    "#perpCA_results = np.array(perpCA_results)\n"
   ]
  },
  {
   "cell_type": "code",
   "execution_count": 30,
   "id": "536a6cb2",
   "metadata": {},
   "outputs": [
    {
     "name": "stdout",
     "output_type": "stream",
     "text": [
      "{}\n"
     ]
    }
   ],
   "source": [
    "print(perpCF_results)"
   ]
  },
  {
   "cell_type": "code",
   "execution_count": 31,
   "id": "93c80ec7",
   "metadata": {},
   "outputs": [
    {
     "ename": "KeyError",
     "evalue": "('forward', 'fixed')",
     "output_type": "error",
     "traceback": [
      "\u001b[1;31m---------------------------------------------------------------------------\u001b[0m",
      "\u001b[1;31mKeyError\u001b[0m                                  Traceback (most recent call last)",
      "Cell \u001b[1;32mIn[31], line 41\u001b[0m\n\u001b[0;32m     39\u001b[0m figsize \u001b[38;5;241m=\u001b[39m (\u001b[38;5;241m3\u001b[39m,\u001b[38;5;241m3\u001b[39m)\n\u001b[0;32m     40\u001b[0m configure \u001b[38;5;241m=\u001b[39m (\u001b[38;5;124m'\u001b[39m\u001b[38;5;124mforward\u001b[39m\u001b[38;5;124m'\u001b[39m, \u001b[38;5;124m'\u001b[39m\u001b[38;5;124mfixed\u001b[39m\u001b[38;5;124m'\u001b[39m)\n\u001b[1;32m---> 41\u001b[0m plot_comparison_bar_graph(\u001b[43mperpCF_results\u001b[49m\u001b[43m[\u001b[49m\u001b[43mconfigure\u001b[49m\u001b[43m]\u001b[49m, perpCA_results[configure], [\u001b[38;5;124m\"\u001b[39m\u001b[38;5;124m10\u001b[39m\u001b[38;5;124m\"\u001b[39m, \u001b[38;5;124m\"\u001b[39m\u001b[38;5;124m20\u001b[39m\u001b[38;5;124m\"\u001b[39m, \u001b[38;5;124m\"\u001b[39m\u001b[38;5;124m30\u001b[39m\u001b[38;5;124m\"\u001b[39m], \u001b[38;5;124m'\u001b[39m\u001b[38;5;124mMotion Traffic (Static)\u001b[39m\u001b[38;5;124m'\u001b[39m, figsize)\n\u001b[0;32m     42\u001b[0m configure \u001b[38;5;241m=\u001b[39m (\u001b[38;5;124m'\u001b[39m\u001b[38;5;124mforward\u001b[39m\u001b[38;5;124m'\u001b[39m, \u001b[38;5;124m'\u001b[39m\u001b[38;5;124madaptive\u001b[39m\u001b[38;5;124m'\u001b[39m)\n\u001b[0;32m     43\u001b[0m plot_comparison_bar_graph(perpCF_results[configure], perpCA_results[configure], [\u001b[38;5;124m\"\u001b[39m\u001b[38;5;124m10\u001b[39m\u001b[38;5;124m\"\u001b[39m, \u001b[38;5;124m\"\u001b[39m\u001b[38;5;124m20\u001b[39m\u001b[38;5;124m\"\u001b[39m, \u001b[38;5;124m\"\u001b[39m\u001b[38;5;124m30\u001b[39m\u001b[38;5;124m\"\u001b[39m], \u001b[38;5;124m'\u001b[39m\u001b[38;5;124mMotion Traffic (Static)\u001b[39m\u001b[38;5;124m'\u001b[39m, figsize)\n",
      "\u001b[1;31mKeyError\u001b[0m: ('forward', 'fixed')"
     ]
    }
   ],
   "source": [
    "def plot_comparison_bar_graph(source1: np.ndarray, source2: np.ndarray, labels: list = None, title: str = 'Comparison of Two Sources', figsize=(10,6)) -> None:\n",
    "    # Ensure the inputs are 2D arrays (N, 1)\n",
    "    source1 = source1.reshape(-1, 1)\n",
    "    source2 = source2.reshape(-1, 1)\n",
    "\n",
    "    # Check if both arrays have the same length\n",
    "    if source1.shape[0] != source2.shape[0]:\n",
    "        raise ValueError(\"Both sources must have the same number of groups (N).\")\n",
    "\n",
    "    # Setting the number of groups (N)\n",
    "    N = source1.shape[0]\n",
    "\n",
    "    # Creating index for groups\n",
    "    indices = np.arange(N)\n",
    "\n",
    "    # Setting bar width\n",
    "    bar_width = 0.35\n",
    "\n",
    "    # Plotting bars\n",
    "    plt.figure(figsize=figsize)\n",
    "    plt.bar(indices - bar_width/2, source1.flatten(), width=bar_width, label='Source 1')\n",
    "    plt.bar(indices + bar_width/2, source2.flatten(), width=bar_width, label='Source 2')\n",
    "\n",
    "    # Adding labels\n",
    "    if labels is not None and len(labels) == N:\n",
    "        plt.xticks(indices, labels, rotation=45)\n",
    "    else:\n",
    "        plt.xticks(indices)\n",
    "\n",
    "    plt.title(title)\n",
    "    plt.xlabel('Groups')\n",
    "    plt.ylabel('Values')\n",
    "    plt.legend()\n",
    "    plt.tight_layout()\n",
    "\n",
    "    # Displaying the plot\n",
    "    plt.show()\n",
    "\n",
    "figsize = (3,3)\n",
    "configure = ('forward', 'fixed')\n",
    "plot_comparison_bar_graph(perpCF_results[configure], perpCA_results[configure], [\"10\", \"20\", \"30\"], 'Motion Traffic (Static)', figsize)\n",
    "configure = ('forward', 'adaptive')\n",
    "plot_comparison_bar_graph(perpCF_results[configure], perpCA_results[configure], [\"10\", \"20\", \"30\"], 'Motion Traffic (Static)', figsize)\n",
    "configure = ('backward', 'fixed')\n",
    "plot_comparison_bar_graph(perpCF_results[configure], perpCA_results[configure], [\"10\", \"20\", \"30\"], 'Motion Traffic (Static)', figsize)\n",
    "configure = ('backward', 'adaptive')\n",
    "plot_comparison_bar_graph(perpCF_results[configure], perpCA_results[configure], [\"10\", \"20\", \"30\"], 'Motion Traffic (Static)', figsize)"
   ]
  },
  {
   "cell_type": "code",
   "execution_count": null,
   "id": "6368e927",
   "metadata": {},
   "outputs": [
    {
     "data": {
      "image/png": "[encoded data removed]",
      "text/plain": [
       "<Figure size 1000x300 with 4 Axes>"
      ]
     },
     "metadata": {},
     "output_type": "display_data"
    }
   ],
   "source": [
    "def plot_combined_comparison_bar_graph(perpCF_results: dict, perpCA_results: dict, configurations, subtitles, figsize=(12, 12), \n",
    "                                       title_fontsize=14, label_fontsize=12, tick_fontsize=10, legend_fontsize=12) -> None:\n",
    "    # Creating the figure with 1x4 subplots\n",
    "    fig, axs = plt.subplots(1, 4, figsize=figsize)\n",
    "    axs = axs.ravel()  # Flatten for easier indexing\n",
    "\n",
    "    for i, config in enumerate(configurations):\n",
    "        ax = axs[i]\n",
    "        source1 = perpCF_results[config].reshape(-1, 1)\n",
    "        source2 = perpCA_results[config].reshape(-1, 1)\n",
    "\n",
    "        # Ensuring equal length of sources\n",
    "        if source1.shape[0] != source2.shape[0]:\n",
    "            raise ValueError(\"Both sources must have the same number of groups (N).\")\n",
    "\n",
    "        N = source1.shape[0]\n",
    "        indices = np.arange(N)\n",
    "        bar_width = 0.35\n",
    "\n",
    "        # Plotting bars\n",
    "        ax.bar(indices - bar_width / 2, source1.flatten(), width=bar_width, label='MC')\n",
    "        ax.bar(indices + bar_width / 2, source2.flatten(), width=bar_width, label='Proposed')\n",
    "\n",
    "        ax.set_title(f'{subtitles[i]}', fontsize=title_fontsize)\n",
    "        ax.set_xlabel('Window length (L)', fontsize=label_fontsize)\n",
    "        ax.set_ylabel('Perplexity', fontsize=label_fontsize)\n",
    "        ax.set_xticks(indices)\n",
    "        ax.set_xticklabels(['10', '20', '30'], rotation=45, fontsize=tick_fontsize)\n",
    "        ax.tick_params(axis='y', labelsize=tick_fontsize)\n",
    "\n",
    "    # Adjust layout and add one single legend\n",
    "    handles, labels = axs[0].get_legend_handles_labels()\n",
    "    fig.legend(handles, labels, loc='lower center', ncol=2, fontsize=legend_fontsize)\n",
    "\n",
    "    plt.tight_layout(rect=[0, 0.1, 1, 1])  # Adjust layout to fit the legend\n",
    "    return fig\n",
    "\n",
    "configurations = [\n",
    "    ('forward', 'fixed'),\n",
    "    ('forward', 'adaptive'),\n",
    "    ('backward', 'fixed'),\n",
    "    ('backward', 'adaptive')\n",
    "]\n",
    "subtitles = [\n",
    "    'Forward (Fixed)',\n",
    "    'Forward (Adaptive)',\n",
    "    'Backward (Fixed)',\n",
    "    'Backward (Adaptive)'\n",
    "]\n",
    "fig = plot_combined_comparison_bar_graph(\n",
    "    perpCF_results, \n",
    "    perpCA_results, \n",
    "    configurations, \n",
    "    subtitles, \n",
    "    figsize=(10, 3), \n",
    "    title_fontsize=16, \n",
    "    label_fontsize=14, \n",
    "    tick_fontsize=12, \n",
    "    legend_fontsize=14\n",
    ")\n",
    "fig.savefig(\"C:/Users/Ye/Documents/YuYeh_Documents/L2S/Conference_Writing/EW2025/figures/preplexity.png\", format='png', dpi=300)"
   ]
  }
 ],
 "metadata": {
  "kernelspec": {
   "display_name": "traffic_predictor_3_9",
   "language": "python",
   "name": "python3"
  },
  "language_info": {
   "codemirror_mode": {
    "name": "ipython",
    "version": 3
   },
   "file_extension": ".py",
   "mimetype": "text/x-python",
   "name": "python",
   "nbconvert_exporter": "python",
   "pygments_lexer": "ipython3",
   "version": "3.9.20"
  }
 },
 "nbformat": 4,
 "nbformat_minor": 5
}
