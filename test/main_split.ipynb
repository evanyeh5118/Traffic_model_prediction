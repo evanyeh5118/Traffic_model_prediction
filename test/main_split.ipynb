{
 "cells": [
  {
   "cell_type": "code",
   "execution_count": 4,
   "id": "0c451d13",
   "metadata": {},
   "outputs": [
    {
     "name": "stdout",
     "output_type": "stream",
     "text": [
      "Thresholds: [3, 7]\n",
      "Grouped Array: [0 0 0 0 0 1 1 1 1 1 2 2 2 2]\n"
     ]
    }
   ],
   "source": [
    "import numpy as np\n",
    "\n",
    "def generate_balanced_thresholds(arr, N):\n",
    "    \"\"\"\n",
    "    Generates N-1 balanced thresholds for an array of integers.\n",
    "\n",
    "    Parameters:\n",
    "    - arr (np.ndarray): The input array of integers in range [0, L-1].\n",
    "    - N (int): The number of desired groups.\n",
    "\n",
    "    Returns:\n",
    "    - thresholds (list): List of N-1 threshold values.\n",
    "    \"\"\"\n",
    "    if N <= 1:\n",
    "        raise ValueError(\"N must be greater than 1.\")\n",
    "\n",
    "    # Count the frequency of each unique value\n",
    "    unique, counts = np.unique(arr, return_counts=True)\n",
    "    freq_dict = dict(zip(unique, counts))\n",
    "\n",
    "    # Sorting the unique values by their frequencies\n",
    "    sorted_values = sorted(freq_dict.keys())\n",
    "    total_samples = len(arr)\n",
    "\n",
    "    # Initialize variables for threshold calculation\n",
    "    thresholds = []\n",
    "    cum_count = 0\n",
    "    group_size = total_samples / N\n",
    "    current_group_count = 0\n",
    "    group_index = 0\n",
    "\n",
    "    # Calculate N-1 thresholds\n",
    "    for value in sorted_values:\n",
    "        cum_count += freq_dict[value]\n",
    "        current_group_count += freq_dict[value]\n",
    "\n",
    "        # Check if the current group is full\n",
    "        if current_group_count >= group_size:\n",
    "            thresholds.append(value)\n",
    "            group_index += 1\n",
    "            current_group_count = 0\n",
    "\n",
    "            # If we have enough thresholds, stop\n",
    "            if group_index == N - 1:\n",
    "                break\n",
    "\n",
    "    return thresholds\n",
    "\n",
    "\n",
    "def assign_groups(arr, thresholds):\n",
    "    \"\"\"\n",
    "    Assigns groups to an array based on given thresholds.\n",
    "\n",
    "    Parameters:\n",
    "    - arr (np.ndarray): The input array of integers.\n",
    "    - thresholds (list): The list of threshold values.\n",
    "\n",
    "    Returns:\n",
    "    - group_arr (np.ndarray): The grouped array with values ranging from 0 to N-1.\n",
    "    \"\"\"\n",
    "    group_arr = np.zeros_like(arr)\n",
    "    for i, thres in enumerate(thresholds):\n",
    "        group_arr[arr > thres] = i + 1\n",
    "\n",
    "    return group_arr\n",
    "\n",
    "\n",
    "# Example Usage\n",
    "arr = np.array([0, 1, 2, 3, 3, 4, 5, 6, 6, 7, 8, 9, 9, 9])\n",
    "N = 3\n",
    "thresholds = generate_balanced_thresholds(arr, N)\n",
    "group_arr = assign_groups(arr, thresholds)\n",
    "\n",
    "print(f\"Thresholds: {thresholds}\")\n",
    "print(f\"Grouped Array: {group_arr}\")\n"
   ]
  }
 ],
 "metadata": {
  "kernelspec": {
   "display_name": "traffic_predictor_3_9",
   "language": "python",
   "name": "python3"
  },
  "language_info": {
   "codemirror_mode": {
    "name": "ipython",
    "version": 3
   },
   "file_extension": ".py",
   "mimetype": "text/x-python",
   "name": "python",
   "nbconvert_exporter": "python",
   "pygments_lexer": "ipython3",
   "version": "3.9.20"
  }
 },
 "nbformat": 4,
 "nbformat_minor": 5
}
