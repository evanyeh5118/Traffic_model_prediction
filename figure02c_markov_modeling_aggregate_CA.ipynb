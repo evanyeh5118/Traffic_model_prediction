{
 "cells": [
  {
   "cell_type": "code",
   "execution_count": 86,
   "id": "aedf0180",
   "metadata": {},
   "outputs": [],
   "source": [
    "import os\n",
    "os.environ[\"KMP_DUPLICATE_LIB_OK\"]=\"TRUE\"\n",
    "\n",
    "import numpy as np\n",
    "import matplotlib.pyplot as plt\n",
    "import pickle\n",
    "import torch\n",
    "\n",
    "from libs.MarkovModel import compute_context_aware_transition_matrix\n",
    "from libs.MarkovModel import compute_transition_matrix\n",
    "from libs.MarkovModel import compute_log_likelihood_and_perplexity\n",
    "from libs import encode_float_filename, decode_float_filename\n",
    "from libs.MarkovModel import generate_balanced_thresholds\n",
    "from libs.MarkovModel import assign_groups"
   ]
  },
  {
   "cell_type": "code",
   "execution_count": 87,
   "id": "0c9e46df",
   "metadata": {},
   "outputs": [],
   "source": [
    "def softmax(x):\n",
    "    e_x = np.exp(x - np.max(x))  # for numerical stability\n",
    "    return e_x / np.sum(e_x)\n",
    "\n",
    "def compute_context_aware_transition_matrix_aggregated(trafficSource, classDistribu_predicted, lenWindow, mapping, alpha=1e-20):\n",
    "    y_labels = range(0, lenWindow+1)\n",
    "    P = np.zeros((len(y_labels), len(y_labels)))\n",
    "    traffic_count = np.zeros((len(y_labels), 1))\n",
    "\n",
    "    for i in range(trafficSource.shape[0] - 1):\n",
    "        y_source = mapping[int(trafficSource[i])]\n",
    "        for sigma_next in range(lenWindow+1):\n",
    "            y_next = mapping[sigma_next]\n",
    "            prob = softmax(classDistribu_predicted[i, :])\n",
    "            P[y_source, y_next] += prob[sigma_next]\n",
    "            traffic_count[y_source] += 1\n",
    "\n",
    "    for i in range(len(y_labels)):\n",
    "        P[i, :] /= (traffic_count[i] + 1)\n",
    "\n",
    "    P = P + alpha\n",
    "    P = P / P.sum(axis=1, keepdims=True)\n",
    "\n",
    "    return P, traffic_count"
   ]
  },
  {
   "cell_type": "code",
   "execution_count": null,
   "id": "69224fb8",
   "metadata": {},
   "outputs": [
    {
     "name": "stdout",
     "output_type": "stream",
     "text": [
      "[0 0 1 1 2 3 3 4 4 4 4]\n"
     ]
    },
    {
     "name": "stderr",
     "output_type": "stream",
     "text": [
      "C:\\Users\\Ye\\AppData\\Local\\Temp\\ipykernel_41128\\2522843575.py:11: DeprecationWarning: Conversion of an array with ndim > 0 to a scalar is deprecated, and will error in future. Ensure you extract a single element from your array before performing this operation. (Deprecated NumPy 1.25.)\n",
      "  y_source = mapping[int(trafficSource[i])]\n"
     ]
    },
    {
     "name": "stdout",
     "output_type": "stream",
     "text": [
      "[array([2.63522224]), array([2.73794219]), array([2.22251633]), array([2.54732778]), array([2.76347885])] [array([2.66953852]), array([2.7498183]), array([2.2793658]), array([2.59866241]), array([2.8134977])]\n",
      "[ 0  0  1  2  3  4  5  6  7  8  9 10 11 12 12 13 13 13 13 14 14]\n",
      "[array([8.67935466]), array([8.49466576]), array([5.86989986]), array([9.01696486]), array([9.43702189])] [array([7.83645303]), array([7.6277817]), array([6.05829817]), array([7.39925899]), array([8.65890516])]\n",
      "[ 0  0  1  2  3  4  5  6  7  8  9 10 11 12 13 14 15 16 17 18 18 18 18 18\n",
      " 19 19 19 19 19 19 19]\n",
      "[array([12.5951384]), array([17.53241131]), array([12.16405379]), array([12.21773832]), array([18.64612974])] [array([12.45437901]), array([12.12948431]), array([9.86087695]), array([11.65138763]), array([13.31245929])]\n",
      "[0 0 1 2 3 3 4 4 4 4 4]\n",
      "[array([3.18621358]), array([2.96232687]), array([2.45269643]), array([3.00640157]), array([3.23304807])] [array([3.16902989]), array([3.00484356]), array([2.53139853]), array([2.99578682]), array([3.26284177])]\n",
      "[ 0  0  1  2  3  4  5  6  7  8  9 10 11 11 12 14 14 14 14 14 14]\n",
      "[array([8.51910868]), array([6.40780465]), array([4.96685008]), array([5.97213306]), array([6.68943134])] [array([6.74626745]), array([6.37516453]), array([5.21071444]), array([6.04570318]), array([6.79905598])]\n",
      "[ 0  0  1  2  3  4  5  6  7  8  9 10 11 12 13 14 14 15 19 19 19 19 19 19\n",
      " 19 19 19 19 19 19 19]\n",
      "[array([14.60395696]), array([10.21811037]), array([8.77164469]), array([9.08677776]), array([13.32524611])] [array([10.61193364]), array([10.20793259]), array([8.42561275]), array([9.43063919]), array([11.07604734])]\n",
      "[0 0 1 1 2 2 3 3 4 4 4]\n",
      "[array([4.11858616]), array([3.56350403]), array([3.35590644]), array([3.53163218]), array([3.78974631])] [array([4.13199475]), array([3.61266924]), array([3.43691096]), array([3.58843356]), array([3.78414288])]\n",
      "[ 0  1  2  3  4  5  6  7  8  9 10 11 12 12 13 13 14 14 14 14 14]\n",
      "[array([15.1032818]), array([11.79210007]), array([10.53932668]), array([13.4683718]), array([15.95553229])] [array([13.53484151]), array([11.95384193]), array([10.85532812]), array([12.21351103]), array([12.62691025])]\n",
      "[ 0  0  1  1  2  3  4  5  6  7  8  9 10 11 12 13 14 15 16 17 17 18 18 19\n",
      " 19 19 19 19 19 19 19]\n",
      "[array([137.90323841]), array([14.08292434]), array([16.54470703]), array([26.4948404]), array([33.63688113])] [array([17.4664327]), array([13.92967002]), array([13.55124979]), array([14.90059494]), array([15.68728171])]\n",
      "[0 0 1 1 2 2 3 3 4 4 4]\n",
      "[array([4.05798446]), array([3.51335809]), array([3.28140651]), array([3.46266872]), array([3.68897706])] [array([4.04892789]), array([3.54735793]), array([3.36465174]), array([3.51363203]), array([3.68349141])]\n",
      "[ 0  1  2  3  4  5  6  7  8  9 10 11 12 12 13 13 14 14 14 14 14]\n",
      "[array([14.93033091]), array([11.7377334]), array([10.75600899]), array([13.13478504]), array([19.70664005])] [array([13.4399085]), array([11.69073767]), array([10.70881376]), array([11.99818673]), array([12.2996295])]\n",
      "[ 0  0  1  1  2  3  4  5  6  7  8  9 10 11 12 13 14 15 16 17 18 18 19 19\n",
      " 19 19 19 19 19 19 19]\n",
      "[array([64.25012294]), array([15.66317452]), array([13.36613027]), array([14.16657557]), array([51.4994091])] [array([17.45201229]), array([13.86091233]), array([13.42921944]), array([14.39494369]), array([15.37332478])]\n"
     ]
    }
   ],
   "source": [
    "dbParams_list = [0.01, 0.15]\n",
    "direction_list = [\"forward\", \"backward\"]\n",
    "mode_list = [\"fixed\", \"adaptive\"]\n",
    "lenWindow_list = [10, 20, 30]\n",
    "N_group_list = [5,15,20]\n",
    "verbose = False\n",
    "\n",
    "dbParams = dbParams_list[0]\n",
    "direction = direction_list[0]\n",
    "lenWindow = lenWindow_list[0]\n",
    "mode = mode_list[0]\n",
    "\n",
    "perpCF_results = {}\n",
    "perpCA_results = {}\n",
    "for dbParams, direction in zip(dbParams_list, direction_list):\n",
    "    for mode in mode_list:\n",
    "        perpCF_row = []\n",
    "        perpCA_row = []\n",
    "        for lenWindow, N_group in zip(lenWindow_list, N_group_list):\n",
    "            dbpString = encode_float_filename(dbParams)\n",
    "            with open(f\"Results/TrafficPredictor/evaluate/CA/{direction}_{lenWindow}_{mode}_{dbpString}_train.pkl\", \"rb\") as file:\n",
    "                resultsTrain = pickle.load(file)\n",
    "            with open(f\"Results/TrafficPredictor/evaluate/CA/{direction}_{lenWindow}_{mode}_{dbpString}_test.pkl\", \"rb\") as file:\n",
    "                resultsTest = pickle.load(file)\n",
    "            # ===== Compute transition matrix =====\n",
    "            N_aggregation = N_group\n",
    "            theresholds = generate_balanced_thresholds(resultsTrain['trafficTarget_actual'].astype(int), N_aggregation)\n",
    "            mapping = assign_groups(np.array(range(0, lenWindow+1)), theresholds)\n",
    "            #print(mapping)\n",
    "            #print(np.unique(mapping).shape[0], N_aggregation)\n",
    "            transMatrixContextAwareAggregated, traffic_count = compute_context_aware_transition_matrix_aggregated(\n",
    "                resultsTrain['trafficSource_actual'].astype(int), \n",
    "                resultsTrain['classDistribu_predicted'], \n",
    "                lenWindow, \n",
    "                mapping)\n",
    "            transMatrixContextFree = compute_transition_matrix(\n",
    "                assign_groups(resultsTrain['trafficSource_actual'].astype(int), theresholds), \n",
    "                assign_groups(resultsTrain['trafficTarget_actual'].astype(int), theresholds), \n",
    "                lenWindow, \n",
    "                alpha=1e-20)\n",
    "            \n",
    "            # ===== Compute perplexity =====\n",
    "            N = 5\n",
    "            sourceTraffic = assign_groups(resultsTest['trafficSource_actual'].astype(int), theresholds)\n",
    "            targetTraffic = assign_groups(resultsTest['trafficTarget_actual'].astype(int), theresholds)\n",
    "            logLikeCF, perpCF = compute_log_likelihood_and_perplexity(transMatrixContextFree, sourceTraffic, targetTraffic, N=N)\n",
    "            logLikeCA, perpCA = compute_log_likelihood_and_perplexity(transMatrixContextAwareAggregated, sourceTraffic, targetTraffic, N=N)\n",
    "            print(perpCF, perpCA)\n",
    "            perpCF_row.append(np.mean(perpCF))\n",
    "            perpCA_row.append(np.mean(perpCA))\n",
    "\n",
    "        perpCF_results[(direction, mode)] = np.array(perpCF_row)\n",
    "        perpCA_results[(direction, mode)] = np.array(perpCA_row)  "
   ]
  },
  {
   "cell_type": "code",
   "execution_count": 89,
   "id": "c185f20b",
   "metadata": {},
   "outputs": [
    {
     "name": "stderr",
     "output_type": "stream",
     "text": [
      "C:\\Users\\Ye\\AppData\\Local\\Temp\\ipykernel_41128\\1369115388.py:61: UserWarning: FigureCanvasAgg is non-interactive, and thus cannot be shown\n",
      "  fig.show()\n"
     ]
    },
    {
     "data": {
      "image/png": "[encoded data removed]",
      "text/plain": [
       "<Figure size 1000x300 with 4 Axes>"
      ]
     },
     "metadata": {},
     "output_type": "display_data"
    }
   ],
   "source": [
    "def plot_combined_comparison_bar_graph(perpCF_results: dict, perpCA_results: dict, configurations, subtitles, figsize=(12, 12), \n",
    "                                       title_fontsize=14, label_fontsize=12, tick_fontsize=10, legend_fontsize=12) -> None:\n",
    "    # Creating the figure with 1x4 subplots\n",
    "    fig, axs = plt.subplots(1, 4, figsize=figsize)\n",
    "    axs = axs.ravel()  # Flatten for easier indexing\n",
    "\n",
    "    for i, config in enumerate(configurations):\n",
    "        ax = axs[i]\n",
    "        source1 = perpCF_results[config].reshape(-1, 1)\n",
    "        source2 = perpCA_results[config].reshape(-1, 1)\n",
    "\n",
    "        # Ensuring equal length of sources\n",
    "        if source1.shape[0] != source2.shape[0]:\n",
    "            raise ValueError(\"Both sources must have the same number of groups (N).\")\n",
    "\n",
    "        N = source1.shape[0]\n",
    "        indices = np.arange(N)\n",
    "        bar_width = 0.35\n",
    "\n",
    "        # Plotting bars\n",
    "        ax.bar(indices - bar_width / 2, source1.flatten(), width=bar_width, label='MC')\n",
    "        ax.bar(indices + bar_width / 2, source2.flatten(), width=bar_width, label='Proposed')\n",
    "\n",
    "        ax.set_title(f'{subtitles[i]}', fontsize=title_fontsize)\n",
    "        ax.set_xlabel('Window length (L)', fontsize=label_fontsize)\n",
    "        ax.set_ylabel('Perplexity', fontsize=label_fontsize)\n",
    "        ax.set_xticks(indices)\n",
    "        ax.set_xticklabels(['10', '20', '30'], rotation=45, fontsize=tick_fontsize)\n",
    "        ax.tick_params(axis='y', labelsize=tick_fontsize)\n",
    "\n",
    "    # Adjust layout and add one single legend\n",
    "    handles, labels = axs[0].get_legend_handles_labels()\n",
    "    fig.legend(handles, labels, loc='lower center', ncol=2, fontsize=legend_fontsize)\n",
    "\n",
    "    plt.tight_layout(rect=[0, 0.1, 1, 1])  # Adjust layout to fit the legend\n",
    "    return fig\n",
    "\n",
    "configurations = [\n",
    "    ('forward', 'fixed'),\n",
    "    ('forward', 'adaptive'),\n",
    "    ('backward', 'fixed'),\n",
    "    ('backward', 'adaptive')\n",
    "]\n",
    "subtitles = [\n",
    "    'Forward (Fixed)',\n",
    "    'Forward (Adaptive)',\n",
    "    'Backward (Fixed)',\n",
    "    'Backward (Adaptive)'\n",
    "]\n",
    "fig = plot_combined_comparison_bar_graph(\n",
    "    perpCF_results, \n",
    "    perpCA_results, \n",
    "    configurations, \n",
    "    subtitles, \n",
    "    figsize=(10, 3), \n",
    "    title_fontsize=16, \n",
    "    label_fontsize=14, \n",
    "    tick_fontsize=12, \n",
    "    legend_fontsize=14\n",
    ")\n",
    "fig.show()\n",
    "#fig.savefig(\"C:/Users/Ye/Documents/YuYeh_Documents/L2S/Conference_Writing/EW2025/figures/preplexity.png\", format='png', dpi=300)"
   ]
  },
  {
   "cell_type": "code",
   "execution_count": 90,
   "id": "523545e7",
   "metadata": {},
   "outputs": [
    {
     "name": "stdout",
     "output_type": "stream",
     "text": [
      "[1, 3, 4, 5, 6, 7, 8, 9, 10, 11, 12, 13, 14, 15, 16, 17, 18, 19, 21]\n",
      "[ 0  0  1  1  2  3  4  5  6  7  8  9 10 11 12 13 14 15 16 17 18 18 19 19\n",
      " 19 19 19 19 19 19 19]\n",
      "[array([25.0416554])]\n",
      "[array([14.8385813])]\n"
     ]
    }
   ],
   "source": [
    "print(theresholds)\n",
    "print(mapping)\n",
    "N = 1\n",
    "sourceTraffic = assign_groups(resultsTest['trafficSource_actual'].astype(int), theresholds)\n",
    "targetTraffic = assign_groups(resultsTest['trafficTarget_actual'].astype(int), theresholds)\n",
    "logLikeCF, perpCF = compute_log_likelihood_and_perplexity(transMatrixContextFree, sourceTraffic, targetTraffic, N=N)\n",
    "logLikeCA, perpCA = compute_log_likelihood_and_perplexity(transMatrixContextAwareAggregated, sourceTraffic, targetTraffic, N=N)\n",
    "print(perpCF)\n",
    "print(perpCA)\n"
   ]
  }
 ],
 "metadata": {
  "kernelspec": {
   "display_name": "traffic_predictor_3_9",
   "language": "python",
   "name": "python3"
  },
  "language_info": {
   "codemirror_mode": {
    "name": "ipython",
    "version": 3
   },
   "file_extension": ".py",
   "mimetype": "text/x-python",
   "name": "python",
   "nbconvert_exporter": "python",
   "pygments_lexer": "ipython3",
   "version": "3.9.20"
  }
 },
 "nbformat": 4,
 "nbformat_minor": 5
}
