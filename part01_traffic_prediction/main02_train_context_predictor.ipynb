{
 "cells": [
  {
   "cell_type": "code",
   "execution_count": 9,
   "metadata": {},
   "outputs": [],
   "source": [
    "import os\n",
    "os.environ[\"KMP_DUPLICATE_LIB_OK\"]=\"TRUE\"\n",
    "\n",
    "import numpy as np\n",
    "import matplotlib.pyplot as plt\n",
    "import pickle\n",
    "import torch\n",
    "\n",
    "from libs.TrafficGenerator import DatasetConvertor \n",
    "from libs.TrafficPredictor.ContextPredictorLstm import PreparingDataset as PreparingDatasetLstm\n",
    "from libs.TrafficPredictor.ContextPredictorLstm import trainModelByDefaultSetting as trainModelLstm\n",
    "from libs.TrafficPredictor.ContextPredictorLstm import evaluateModel as evaluateModelLstm\n",
    "from libs.TrafficPredictor.ContextPredictorLstm import createModel as createModelLstm\n",
    "from libs import encode_float_filename, decode_float_filename"
   ]
  },
  {
   "cell_type": "code",
   "execution_count": 10,
   "metadata": {},
   "outputs": [
    {
     "name": "stdout",
     "output_type": "stream",
     "text": [
      "5_00e-01.txt\n",
      "0.5\n"
     ]
    }
   ],
   "source": [
    "stringFile = encode_float_filename(0.5)\n",
    "floatFile = decode_float_filename(stringFile)\n",
    "print(stringFile)\n",
    "print(floatFile)"
   ]
  },
  {
   "cell_type": "code",
   "execution_count": 11,
   "metadata": {},
   "outputs": [
    {
     "name": "stdout",
     "output_type": "stream",
     "text": [
      "========== thumb ============\n",
      "Forward: Compression rate:0.22314470485360394\n",
      "========== index ============\n",
      "Forward: Compression rate:0.24555334544091786\n",
      "========== middle ============\n",
      "Forward: Compression rate:0.24907031047306064\n"
     ]
    }
   ],
   "source": [
    "dbParams = 0.01\n",
    "direction = \"forward\"\n",
    "#dbParams = 0.2\n",
    "#direction = \"backward\"\n",
    "mode = \"fixed\"\n",
    "\n",
    "rawDatasetFolder = \"Dataset\"\n",
    "datasetConverter = DatasetConvertor(rawDatasetFolder)\n",
    "datasetConverter.processDataset(dbParameter=dbParams, alpha=dbParams, mode=\"fixed\", direction=direction)\n",
    "thumbUnit = datasetConverter.getDataUnit('thumb_fr')\n",
    "#thumbUnit = datasetConverter.getDataUnit('thumb_bk')"
   ]
  },
  {
   "cell_type": "code",
   "execution_count": 12,
   "metadata": {},
   "outputs": [
    {
     "name": "stdout",
     "output_type": "stream",
     "text": [
      "Train size: 57236, Test size: 46831\n",
      "(57216, 10, 3)\n",
      "(57216, 10, 3)\n"
     ]
    }
   ],
   "source": [
    "lenWindow = 10\n",
    "trainDataAugment = True\n",
    "verbose = True\n",
    "\n",
    "paramsLstm = {}\n",
    "paramsLstm['lenSource'] = lenWindow\n",
    "paramsLstm['lenTarget'] = lenWindow\n",
    "paramsLstm['trainRatio'] = 0.55\n",
    "paramsLstm['dataAugment'] = trainDataAugment\n",
    "paramsLstm['smoothFc'] = 1.5\n",
    "paramsLstm['smoothOrder'] = 3\n",
    "trainData, testData = PreparingDatasetLstm(thumbUnit, paramsLstm, verbose=verbose)\n",
    "\n",
    "(sources, target) = trainData\n",
    "print(sources.shape)\n",
    "print(target.shape)"
   ]
  },
  {
   "cell_type": "code",
   "execution_count": 13,
   "metadata": {},
   "outputs": [
    {
     "name": "stdout",
     "output_type": "stream",
     "text": [
      "Size of train loader: 14, Size of test loader: 12\n",
      "Used device: cuda\n",
      "Size of model: 1883\n",
      "Seq2Seq(\n",
      "  (encoder): Encoder(\n",
      "    (lstm_layers): ModuleList(\n",
      "      (0): LSTM(3, 4, bidirectional=True)\n",
      "      (1): LSTM(8, 4, bidirectional=True)\n",
      "    )\n",
      "    (ln_layers): ModuleList(\n",
      "      (0-1): 2 x LayerNorm((8,), eps=1e-05, elementwise_affine=True)\n",
      "    )\n",
      "    (residual_projections): ModuleList(\n",
      "      (0): Linear(in_features=3, out_features=8, bias=True)\n",
      "      (1): None\n",
      "    )\n",
      "  )\n",
      "  (decoder): Decoder(\n",
      "    (lstm_layers): ModuleList(\n",
      "      (0): LSTM(3, 8)\n",
      "      (1): LSTM(8, 8)\n",
      "    )\n",
      "    (ln_layers): ModuleList(\n",
      "      (0-1): 2 x LayerNorm((8,), eps=1e-05, elementwise_affine=True)\n",
      "    )\n",
      "    (residual_projections): ModuleList(\n",
      "      (0): Linear(in_features=3, out_features=8, bias=True)\n",
      "      (1): None\n",
      "    )\n",
      "    (fc_out): Linear(in_features=8, out_features=3, bias=True)\n",
      "  )\n",
      ")\n",
      "Epoch [1/50], Train Loss: 0.275130, Validation Loss: 0.064756\n",
      "Epoch [2/50], Train Loss: 0.028612, Validation Loss: 0.019952\n",
      "Epoch [3/50], Train Loss: 0.019097, Validation Loss: 0.013545\n",
      "Epoch [4/50], Train Loss: 0.011403, Validation Loss: 0.010329\n",
      "Epoch [5/50], Train Loss: 0.009557, Validation Loss: 0.009366\n",
      "Epoch [6/50], Train Loss: 0.008798, Validation Loss: 0.008464\n",
      "Epoch [7/50], Train Loss: 0.008117, Validation Loss: 0.008003\n",
      "Epoch [8/50], Train Loss: 0.007338, Validation Loss: 0.007517\n",
      "Epoch [9/50], Train Loss: 0.007124, Validation Loss: 0.006896\n",
      "Epoch [10/50], Train Loss: 0.006179, Validation Loss: 0.006200\n",
      "Epoch [11/50], Train Loss: 0.005447, Validation Loss: 0.005471\n",
      "Epoch [12/50], Train Loss: 0.004749, Validation Loss: 0.004823\n",
      "Epoch [13/50], Train Loss: 0.004086, Validation Loss: 0.004432\n",
      "Epoch [14/50], Train Loss: 0.003699, Validation Loss: 0.004231\n",
      "Epoch [15/50], Train Loss: 0.003521, Validation Loss: 0.004097\n",
      "Epoch [16/50], Train Loss: 0.003342, Validation Loss: 0.003957\n",
      "Epoch [17/50], Train Loss: 0.003184, Validation Loss: 0.003841\n",
      "Epoch [18/50], Train Loss: 0.003104, Validation Loss: 0.003739\n",
      "Epoch [19/50], Train Loss: 0.002966, Validation Loss: 0.003660\n",
      "Epoch [20/50], Train Loss: 0.002868, Validation Loss: 0.003619\n",
      "Epoch [21/50], Train Loss: 0.002815, Validation Loss: 0.003550\n",
      "Epoch [22/50], Train Loss: 0.002739, Validation Loss: 0.003430\n",
      "Epoch [23/50], Train Loss: 0.002629, Validation Loss: 0.003440\n",
      "Epoch [24/50], Train Loss: 0.002595, Validation Loss: 0.003353\n",
      "Epoch [25/50], Train Loss: 0.002537, Validation Loss: 0.003363\n",
      "Epoch [26/50], Train Loss: 0.002475, Validation Loss: 0.003222\n",
      "Epoch [27/50], Train Loss: 0.002415, Validation Loss: 0.003214\n",
      "Epoch [28/50], Train Loss: 0.002388, Validation Loss: 0.003129\n",
      "Epoch [29/50], Train Loss: 0.002341, Validation Loss: 0.003116\n",
      "Epoch [30/50], Train Loss: 0.002278, Validation Loss: 0.003051\n",
      "Epoch [31/50], Train Loss: 0.002240, Validation Loss: 0.003000\n",
      "Epoch [32/50], Train Loss: 0.002180, Validation Loss: 0.003024\n",
      "Epoch [33/50], Train Loss: 0.002193, Validation Loss: 0.003008\n",
      "Epoch [34/50], Train Loss: 0.002160, Validation Loss: 0.002907\n",
      "Epoch [35/50], Train Loss: 0.002072, Validation Loss: 0.002871\n",
      "Epoch [36/50], Train Loss: 0.002075, Validation Loss: 0.002836\n",
      "Epoch [37/50], Train Loss: 0.002042, Validation Loss: 0.002824\n",
      "Epoch [38/50], Train Loss: 0.002013, Validation Loss: 0.002773\n",
      "Epoch [39/50], Train Loss: 0.001995, Validation Loss: 0.002762\n",
      "Epoch [40/50], Train Loss: 0.001975, Validation Loss: 0.002731\n",
      "Epoch [41/50], Train Loss: 0.001972, Validation Loss: 0.002697\n",
      "Epoch [42/50], Train Loss: 0.001942, Validation Loss: 0.002676\n",
      "Epoch [43/50], Train Loss: 0.001961, Validation Loss: 0.002660\n",
      "Epoch [44/50], Train Loss: 0.001895, Validation Loss: 0.002622\n",
      "Epoch [45/50], Train Loss: 0.001921, Validation Loss: 0.002601\n",
      "Epoch [46/50], Train Loss: 0.001864, Validation Loss: 0.002581\n",
      "Epoch [47/50], Train Loss: 0.001878, Validation Loss: 0.002556\n",
      "Epoch [48/50], Train Loss: 0.001824, Validation Loss: 0.002538\n",
      "Epoch [49/50], Train Loss: 0.001781, Validation Loss: 0.002571\n",
      "Epoch [50/50], Train Loss: 0.001796, Validation Loss: 0.002499\n"
     ]
    }
   ],
   "source": [
    "bestWeightsLstm, _, _, modleParametersLstm = trainModelLstm(\n",
    "paramsLstm['lenSource'], paramsLstm['lenTarget'], trainData, testData, verbose=verbose)"
   ]
  },
  {
   "cell_type": "code",
   "execution_count": 14,
   "metadata": {},
   "outputs": [
    {
     "name": "stdout",
     "output_type": "stream",
     "text": [
      "Train size: 57236, Test size: 46831\n",
      "context_actual: (5721, 10, 3), context_predicted: (5721, 10, 3)\n"
     ]
    },
    {
     "data": {
      "text/plain": [
       "[<matplotlib.lines.Line2D at 0x29a0d1ef250>]"
      ]
     },
     "execution_count": 14,
     "metadata": {},
     "output_type": "execute_result"
    },
    {
     "data": {
      "image/png": "[encoded data removed]",
      "text/plain": [
       "<Figure size 640x480 with 1 Axes>"
      ]
     },
     "metadata": {},
     "output_type": "display_data"
    }
   ],
   "source": [
    "trafficModelLstm, _ = createModelLstm(modleParametersLstm)\n",
    "trafficModelLstm.load_state_dict(bestWeightsLstm)\n",
    "\n",
    "paramsValid = paramsLstm.copy()\n",
    "paramsValid['dataAugment'] = False\n",
    "trainData, testData = PreparingDatasetLstm(thumbUnit, paramsValid, verbose=verbose)\n",
    "\n",
    "resultsTrain = evaluateModelLstm(trafficModelLstm, trainData)\n",
    "resultsTest = evaluateModelLstm(trafficModelLstm, testData)\n",
    "\n",
    "\n",
    "print(f\"context_actual: {resultsTrain['context_actual'].shape}, context_predicted: {resultsTrain['context_predicted'].shape}\")\n",
    "\n",
    "plt.plot(resultsTest['context_actual'].reshape(-1,3)[0:200, 0])\n",
    "plt.plot(resultsTest['context_predicted'].reshape(-1,3)[0:200, 0])"
   ]
  },
  {
   "cell_type": "code",
   "execution_count": 15,
   "metadata": {},
   "outputs": [
    {
     "data": {
      "text/plain": [
       "'\\ndbpString = encode_float_filename(dbParams)\\nwith open(f\"Results/TrafficPredictor/evaluate/{direction}_{lenWindow}_{mode}_{dbpString}_train.pkl\", \"wb\") as file:\\n    pickle.dump(resultsTrain, file)\\nwith open(f\"Results/TrafficPredictor/evaluate/{direction}_{lenWindow}_{mode}_{dbpString}_test.pkl\", \"wb\") as file:\\n    pickle.dump(resultsTest, file)\\n\\n#modelData = {}\\n#modelData[\"trainData\"] = trainData\\n#modelData[\"testData\"] = testData\\n#with open(f\"Results/TrafficPredictor/modelData/{direction}_{lenWindow}_{mode}_{dbpString}.pkl\", \"wb\") as file:\\n#    pickle.dump(modelData, file)\\nwith open(f\"Results/TrafficPredictor/modelParams/{direction}_{lenWindow}_{mode}_{dbpString}.pkl\", \"wb\") as file:\\n    pickle.dump(modleParametersLstm, file)\\ntorch.save(bestWeightsLstm, f\"Results/TrafficPredictor/model/{direction}_{lenWindow}_{mode}_{dbpString}.pth\")\\n'"
      ]
     },
     "execution_count": 15,
     "metadata": {},
     "output_type": "execute_result"
    }
   ],
   "source": [
    "'''\n",
    "dbpString = encode_float_filename(dbParams)\n",
    "with open(f\"Results/TrafficPredictor/evaluate/{direction}_{lenWindow}_{mode}_{dbpString}_train.pkl\", \"wb\") as file:\n",
    "    pickle.dump(resultsTrain, file)\n",
    "with open(f\"Results/TrafficPredictor/evaluate/{direction}_{lenWindow}_{mode}_{dbpString}_test.pkl\", \"wb\") as file:\n",
    "    pickle.dump(resultsTest, file)\n",
    "\n",
    "#modelData = {}\n",
    "#modelData[\"trainData\"] = trainData\n",
    "#modelData[\"testData\"] = testData\n",
    "#with open(f\"Results/TrafficPredictor/modelData/{direction}_{lenWindow}_{mode}_{dbpString}.pkl\", \"wb\") as file:\n",
    "#    pickle.dump(modelData, file)\n",
    "with open(f\"Results/TrafficPredictor/modelParams/{direction}_{lenWindow}_{mode}_{dbpString}.pkl\", \"wb\") as file:\n",
    "    pickle.dump(modleParametersLstm, file)\n",
    "torch.save(bestWeightsLstm, f\"Results/TrafficPredictor/model/{direction}_{lenWindow}_{mode}_{dbpString}.pth\")\n",
    "'''"
   ]
  }
 ],
 "metadata": {
  "kernelspec": {
   "display_name": "traffic_predictor_3_9",
   "language": "python",
   "name": "python3"
  },
  "language_info": {
   "codemirror_mode": {
    "name": "ipython",
    "version": 3
   },
   "file_extension": ".py",
   "mimetype": "text/x-python",
   "name": "python",
   "nbconvert_exporter": "python",
   "pygments_lexer": "ipython3",
   "version": "3.9.20"
  }
 },
 "nbformat": 4,
 "nbformat_minor": 2
}
