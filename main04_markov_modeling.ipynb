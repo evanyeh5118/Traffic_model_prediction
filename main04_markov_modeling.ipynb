{
 "cells": [
  {
   "cell_type": "code",
   "execution_count": 83,
   "id": "aedf0180",
   "metadata": {},
   "outputs": [],
   "source": [
    "import os\n",
    "os.environ[\"KMP_DUPLICATE_LIB_OK\"]=\"TRUE\"\n",
    "\n",
    "import numpy as np\n",
    "import matplotlib.pyplot as plt\n",
    "import pickle\n",
    "import torch\n",
    "\n",
    "from libs.MarkovModel import compute_context_aware_transition_matrix\n",
    "from libs.MarkovModel import compute_transition_matrix\n",
    "from libs.MarkovModel import compute_log_likelihood_and_perplexity\n",
    "from libs import encode_float_filename, decode_float_filename"
   ]
  },
  {
   "cell_type": "code",
   "execution_count": 84,
   "id": "69224fb8",
   "metadata": {},
   "outputs": [],
   "source": [
    "#dbParams = 0.01\n",
    "#direction = \"forward\"\n",
    "#dbParams = 0.2\n",
    "#direction = \"backward\"\n",
    "\n",
    "#dbParams_list = [0.01, 0.2]\n",
    "#direction_list = [\"forward\", \"backward\"]\n",
    "dbParams_list = [0.01]\n",
    "direction_list = [\"forward\"]\n",
    "mode = \"fixed\"\n",
    "LEN_period = 1000\n",
    "verbose = False\n",
    "\n",
    "perpCF_results = []\n",
    "perpCA_results = []\n",
    "\n",
    "for dbParams, direction in zip(dbParams_list, direction_list):\n",
    "    perpCF_row = []\n",
    "    perpCA_row = []\n",
    "    for lenWindow in [10, 20, 30]:\n",
    "        dbpString = encode_float_filename(dbParams)\n",
    "        with open(f\"Results/TrafficPredictor/evaluate/{direction}_{lenWindow}_{mode}_{dbpString}_train.pkl\", \"rb\") as file:\n",
    "            resultsTrain = pickle.load(file)\n",
    "        with open(f\"Results/TrafficPredictor/evaluate/{direction}_{lenWindow}_{mode}_{dbpString}_test.pkl\", \"rb\") as file:\n",
    "            resultsTest = pickle.load(file)\n",
    "\n",
    "            trafficTarget = resultsTrain['trafficTarget_actual']\n",
    "            trafficSource = resultsTrain['trafficSource_actual']\n",
    "\n",
    "            transMatrixContextAware, _ = compute_context_aware_transition_matrix(resultsTrain, lenWindow)\n",
    "            transMatrixContextFree = compute_transition_matrix(trafficSource, trafficTarget, lenWindow+1, alpha=1e-20)\n",
    "\n",
    "            #N = np.floor(len(resultsTest['trafficSource_actual'])/LEN_period).astype(int)\n",
    "            N = 1\n",
    "            sourceTraffic = resultsTest['trafficSource_actual']\n",
    "            targetTraffic = resultsTest['trafficTarget_actual']\n",
    "            logLikeCA, perpCA = compute_log_likelihood_and_perplexity(transMatrixContextAware, sourceTraffic, targetTraffic, N=N)\n",
    "            logLikeCF, perpCF = compute_log_likelihood_and_perplexity(transMatrixContextFree, sourceTraffic, targetTraffic, N=N)\n",
    "\n",
    "            perpCF_row.append(np.mean(perpCF))\n",
    "            perpCA_row.append(np.mean(perpCA))\n",
    "            if verbose == True:\n",
    "                print(np.sum(transMatrixContextFree, axis=1))\n",
    "                print(np.sum(transMatrixContextAware, axis=1))\n",
    "                print(f\"Imporvement: {abs(np.mean(perpCA)-np.mean(perpCF))/np.mean(perpCF)}\")\n",
    "                print(f\"perpCF: {np.mean(perpCF)}, perpCA: {np.mean(perpCA)}\")\n",
    "                print(f\"logLikeCF: {np.mean(logLikeCF)}, logLikeCA: {np.mean(logLikeCA)}\")\n",
    "\n",
    "                plt.plot(logLikeCF)\n",
    "                plt.plot(logLikeCA)\n",
    "                plt.show()\n",
    "                plt.plot(perpCF)\n",
    "                plt.plot(perpCA)\n",
    "                plt.show()\n",
    "    perpCF_results.append(perpCF_row)\n",
    "    perpCA_results.append(perpCA_row)    \n",
    "perpCF_results = np.array(perpCF_results)\n",
    "perpCA_results = np.array(perpCA_results)\n"
   ]
  },
  {
   "cell_type": "code",
   "execution_count": 85,
   "id": "12c10f24",
   "metadata": {},
   "outputs": [
    {
     "name": "stdout",
     "output_type": "stream",
     "text": [
      "[[ 5.10826815 10.67149999 25.34367528]]\n",
      "[[ 4.75575705  8.5837151  12.93209067]]\n"
     ]
    }
   ],
   "source": [
    "print(perpCF_results)\n",
    "print(perpCA_results)"
   ]
  },
  {
   "cell_type": "code",
   "execution_count": 86,
   "id": "93c80ec7",
   "metadata": {},
   "outputs": [
    {
     "data": {
      "image/png": "[encoded data removed]",
      "text/plain": [
       "<Figure size 300x300 with 1 Axes>"
      ]
     },
     "metadata": {},
     "output_type": "display_data"
    }
   ],
   "source": [
    "def plot_comparison_bar_graph(source1: np.ndarray, source2: np.ndarray, labels: list = None, title: str = 'Comparison of Two Sources', figsize=(10,6)) -> None:\n",
    "    # Ensure the inputs are 2D arrays (N, 1)\n",
    "    source1 = source1.reshape(-1, 1)\n",
    "    source2 = source2.reshape(-1, 1)\n",
    "\n",
    "    # Check if both arrays have the same length\n",
    "    if source1.shape[0] != source2.shape[0]:\n",
    "        raise ValueError(\"Both sources must have the same number of groups (N).\")\n",
    "\n",
    "    # Setting the number of groups (N)\n",
    "    N = source1.shape[0]\n",
    "\n",
    "    # Creating index for groups\n",
    "    indices = np.arange(N)\n",
    "\n",
    "    # Setting bar width\n",
    "    bar_width = 0.35\n",
    "\n",
    "    # Plotting bars\n",
    "    plt.figure(figsize=figsize)\n",
    "    plt.bar(indices - bar_width/2, source1.flatten(), width=bar_width, label='Source 1')\n",
    "    plt.bar(indices + bar_width/2, source2.flatten(), width=bar_width, label='Source 2')\n",
    "\n",
    "    # Adding labels\n",
    "    if labels is not None and len(labels) == N:\n",
    "        plt.xticks(indices, labels, rotation=45)\n",
    "    else:\n",
    "        plt.xticks(indices)\n",
    "\n",
    "    plt.title(title)\n",
    "    plt.xlabel('Groups')\n",
    "    plt.ylabel('Values')\n",
    "    plt.legend()\n",
    "    plt.tight_layout()\n",
    "\n",
    "    # Displaying the plot\n",
    "    plt.show()\n",
    "\n",
    "figsize = (3,3)\n",
    "plot_comparison_bar_graph(perpCF_results[0], perpCA_results[0], [\"10\", \"20\", \"30\"], 'Motion Traffic (Static)', figsize)\n",
    "#plot_comparison_bar_graph(perpCF_results[1], perpCA_results[1], [\"10\", \"20\", \"30\"], 'Haptic Traffic (Static)', figsize)"
   ]
  }
 ],
 "metadata": {
  "kernelspec": {
   "display_name": "traffic_predictor_3_9",
   "language": "python",
   "name": "python3"
  },
  "language_info": {
   "codemirror_mode": {
    "name": "ipython",
    "version": 3
   },
   "file_extension": ".py",
   "mimetype": "text/x-python",
   "name": "python",
   "nbconvert_exporter": "python",
   "pygments_lexer": "ipython3",
   "version": "3.9.20"
  }
 },
 "nbformat": 4,
 "nbformat_minor": 5
}
